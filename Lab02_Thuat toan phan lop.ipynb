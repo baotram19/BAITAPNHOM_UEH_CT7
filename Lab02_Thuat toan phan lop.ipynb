{
 "cells": [
  {
   "cell_type": "markdown",
   "id": "161fe8b2-612c-4f11-a6d7-811361621cd1",
   "metadata": {},
   "source": [
    "## **THỰC HÀNH: CÁC GIẢI THUẬT PHÂN LOẠI CƠ BẢN**"
   ]
  },
  {
   "cell_type": "markdown",
   "id": "5e611711-7d38-447e-972b-7a95f26dc012",
   "metadata": {},
   "source": [
    "### **2.2. GIẢI THUẬT 2: SUPPORT VECTOR MACHINE (SVM)**"
   ]
  },
  {
   "cell_type": "markdown",
   "id": "9583199b-9caf-4c95-a0f8-68f405ac3a52",
   "metadata": {},
   "source": [
    "#### **2.2.1. Ôn tập lý thuyết**"
   ]
  },
  {
   "cell_type": "markdown",
   "id": "5791c9be-c114-467e-9ebf-71260a418ec9",
   "metadata": {},
   "source": [
    "#### *Sự khác biệt giữa SVM với lề cứng (hard margin) và lề mềm (soft margin) là gì? Khi nào nên sử dụng lề mềm?*"
   ]
  },
  {
   "cell_type": "markdown",
   "id": "d992820b-1b8c-4f23-8ab5-ed55dc4e8c88",
   "metadata": {},
   "source": [
    "Sự khác biệt giữa SVM với lề cứng (hard margin) và lề mềm (soft margin) chủ yếu nằm ở cách xử lý dữ liệu trong những điều kiện khác nhau. Với lề cứng, mô hình giả định dữ liệu có thể phân tách tuyến tính hoàn hảo và yêu cầu tất cả các điểm huấn luyện đều nằm ngoài hoặc trên ranh giới lề. Cách tiếp cận này phù hợp với dữ liệu “sạch”, không nhiễu nhưng dễ thất bại khi xuất hiện ngoại lai hoặc dữ liệu không khả phân tuyến tính.\n",
    "\n",
    "Ngược lại, lề mềm được xây dựng để khắc phục hạn chế đó bằng cách cho phép một số điểm dữ liệu vi phạm, tức là có thể nằm trong vùng lề hoặc bị phân loại sai. Thông qua biến slack và tham số phạt C, mô hình cân bằng giữa việc mở rộng khoảng cách phân tách và giảm thiểu lỗi phân loại. \n",
    "\n",
    "Nhờ sự linh hoạt này, lề mềm xử lý tốt hơn trong thực tế, đặc biệt khi dữ liệu có nhiễu hoặc không thể phân tách tuyến tính hoàn toàn. Ngay cả khi dữ liệu phân tách tuyến tính nhưng lề quá hẹp khiến mô hình dễ overfitting, lề mềm vẫn giúp mở rộng lề và cải thiện khả năng khái quát hóa. Tóm lại, lề cứng thích hợp cho dữ liệu sạch, còn lề mềm phù hợp hơn trong hầu hết các bài toán thực tế."
   ]
  },
  {
   "cell_type": "code",
   "execution_count": null,
   "id": "eb50d36a-f09c-43c4-94db-050ac5757368",
   "metadata": {},
   "outputs": [],
   "source": []
  }
 ],
 "metadata": {
  "kernelspec": {
   "display_name": "Python 3 (ipykernel)",
   "language": "python",
   "name": "python3"
  },
  "language_info": {
   "codemirror_mode": {
    "name": "ipython",
    "version": 3
   },
   "file_extension": ".py",
   "mimetype": "text/x-python",
   "name": "python",
   "nbconvert_exporter": "python",
   "pygments_lexer": "ipython3",
   "version": "3.12.1"
  }
 },
 "nbformat": 4,
 "nbformat_minor": 5
}
